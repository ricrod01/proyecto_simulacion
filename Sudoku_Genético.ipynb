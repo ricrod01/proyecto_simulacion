{
 "cells": [
  {
   "cell_type": "markdown",
   "id": "1eb00de5-a710-465a-8bb9-08a0b6a45ba2",
   "metadata": {},
   "source": [
    "# Proyecto de Modelación y Simulación"
   ]
  },
  {
   "cell_type": "markdown",
   "id": "e3662b72-d607-42ce-b3cd-21b2237f5249",
   "metadata": {},
   "source": [
    "#### Se importan las librerías a utilizar."
   ]
  },
  {
   "cell_type": "code",
   "execution_count": 1,
   "id": "7352efc8-ff73-4e6e-9fae-001f89684d4d",
   "metadata": {},
   "outputs": [],
   "source": [
    "import numpy as np\n",
    "import random\n",
    "import math"
   ]
  },
  {
   "cell_type": "markdown",
   "id": "26dcab61-7c2a-4f7e-bd80-35fc9ee1c58a",
   "metadata": {},
   "source": [
    "#### Se ingresa el sudoku que se desea resolver."
   ]
  },
  {
   "cell_type": "code",
   "execution_count": 4,
   "id": "3101c416-4953-4872-9295-b5a27529abad",
   "metadata": {},
   "outputs": [],
   "source": [
    "                   # 1  2  3  4  5  6  7  8  9\n",
    "inicial = np.array([[1, 0, 3, 0, 6, 5, 0, 0, 0],   #1\n",
    "                    [7, 0, 0, 0, 2, 0, 0, 0, 0],   #2\n",
    "                    [5, 0, 0, 3, 0, 0, 0, 0, 0],   #3\n",
    "                    [0, 0, 2, 6, 5, 0, 0, 3, 0],   #4\n",
    "                    [0, 0, 1, 4, 3, 0, 6, 0, 0],   #5\n",
    "                    [0, 0, 0, 0, 1, 7, 2, 0, 5],   #6\n",
    "                    [0, 0, 0, 0, 0, 6, 0, 5, 0],   #7\n",
    "                    [0, 0, 4, 0, 8, 0, 0, 6, 0],   #8\n",
    "                    [0, 6, 0, 0, 4, 0, 0, 1, 0]])  #9"
   ]
  },
  {
   "cell_type": "markdown",
   "id": "15ba6dad-c410-4e3d-b5fc-2e8fd70da26c",
   "metadata": {},
   "source": [
    "#### Se realiza una función que determina las posiciones (fila, columna) que son mutables, agrupando por subcuadro."
   ]
  },
  {
   "cell_type": "code",
   "execution_count": 7,
   "id": "290f2c0a-d9fb-4a19-96ca-a19d1019b5ae",
   "metadata": {},
   "outputs": [],
   "source": [
    "# Función que devuelve un arreglo de las posiciones mutables del sudoku.\n",
    "def posiciones_mutables():\n",
    "    mutables = [] # Lista donde se almacenan las posiciones mutables de cada subcuadrado.\n",
    "    for fila in range(0, 9, 3): # Recorre las filas de todo el cuadro.\n",
    "        for columna in range(0, 9, 3): # Recorre las columnas de todo el cuadro.\n",
    "            posiciones = [] # Lista que almacena las posiciones mutables del subcuadrado analizado.\n",
    "            for x in range(fila, fila + 3): # Recorre las filas del subcuadrado.\n",
    "                for y in range(columna, columna + 3): # Recorre las columnas del subcuadrado.\n",
    "                    if inicial[x, y] == 0: # Define si la celda se puede mutar.\n",
    "                        posiciones.append((x, y))\n",
    "            mutables.append(posiciones)\n",
    "    return mutables # Lista con posiciones mutables.\n",
    "\n",
    "mutables = posiciones_mutables() # Matriz con las posiciones mutables."
   ]
  },
  {
   "cell_type": "markdown",
   "id": "c26aa6cc-b789-4c02-a1bf-cb483b42487f",
   "metadata": {},
   "source": [
    "#### Se realiza una función que determina los números que faltan en un arreglo."
   ]
  },
  {
   "cell_type": "code",
   "execution_count": 10,
   "id": "531bf5c4-ac1c-4051-9b7f-0e8ce6e7e1c7",
   "metadata": {},
   "outputs": [],
   "source": [
    "# Se establece un arreglo con los números que debe tener un arreglo del sudoku.\n",
    "numeros = np.arange(1, 10)\n",
    "\n",
    "# Función que devuelve una lista con los número que le faltan a un arreglo de entrada.\n",
    "def numeros_faltantes(arreglo):\n",
    "    return list(set(numeros) - set(arreglo)) # Se calcula la diferencia de conjuntos para determinar los faltantes.\n",
    "\n",
    "# Se genera una lista con las listas de números faltantes en cada subcuadro.\n",
    "faltantes = [numeros_faltantes(inicial[f:f+3, c:c+3].flatten()) for f in range(0, 9, 3) for c in range(0, 9, 3)]"
   ]
  },
  {
   "cell_type": "markdown",
   "id": "39309c75-1e77-4080-8571-bde9fc44da98",
   "metadata": {},
   "source": [
    "### Funciones que generan la población inicial."
   ]
  },
  {
   "cell_type": "markdown",
   "id": "b17c495d-d886-4d59-86ac-c006f169e9cf",
   "metadata": {},
   "source": [
    "#### Se realiza una función que permite crear un individuo nuevo."
   ]
  },
  {
   "cell_type": "code",
   "execution_count": 14,
   "id": "2fbb5c07-7afa-4c47-ab98-70bdca89aff8",
   "metadata": {},
   "outputs": [],
   "source": [
    "# Función que crea un nuevo individuo dejando invariantes las celdas iniciales.\n",
    "def individuo_nuevo(ind):\n",
    "    cont = 0 # Contador que permite recorrer las listas de faltantes de los sucuadros.\n",
    "    for f in range(0, 9, 3): # Recorre las filas de todo el cuadro.\n",
    "        for c in range(0, 9, 3): # Recorre las columnas de todo el cuadro.\n",
    "            faltante = faltantes[cont][:] # Se define la lista de números del subcuadro.\n",
    "            cont2 = 0 # Se define un contador que asegura que todos los fatantes serán usados.\n",
    "            random.shuffle(faltante) # Se ordenan los faltantes de forma aleatoria.\n",
    "            for x in range(f, f + 3): # Recorre las filas de los subcuadros.\n",
    "                for y in range(c, c + 3): # Recorre las columnas de los subcuadros.\n",
    "                    if inicial[x, y] == 0: # Condición de que falta un número.\n",
    "                        ind[x, y] = faltante[cont2] # Se asigna un número faltante.\n",
    "                        cont2 += 1\n",
    "            cont += 1\n",
    "    return ind.astype(int)"
   ]
  },
  {
   "cell_type": "markdown",
   "id": "a3c638ee-504a-47ba-948b-bd6b7f2f5052",
   "metadata": {},
   "source": [
    "#### Se realiza una función que permite crear la población inicial."
   ]
  },
  {
   "cell_type": "code",
   "execution_count": 16,
   "id": "9cc4c7af-0d3a-4450-83ac-3be7b74b03e1",
   "metadata": {},
   "outputs": [],
   "source": [
    "# Función que develve una lista de tamaño n con nuevos individuos.\n",
    "def poblacion_inicial(n):\n",
    "    return [individuo_nuevo(inicial.copy()) for x in range(n)]"
   ]
  },
  {
   "cell_type": "markdown",
   "id": "3dfde944-ab7f-49ed-9b81-6477503a4173",
   "metadata": {},
   "source": [
    "### Funciones Fitness."
   ]
  },
  {
   "cell_type": "markdown",
   "id": "019ced33-e627-402d-b5ea-73c636f772fe",
   "metadata": {},
   "source": [
    "#### Se realiza una función que determina la nota de un arreglo."
   ]
  },
  {
   "cell_type": "code",
   "execution_count": 21,
   "id": "8da281d3-b6bc-4c11-b73a-35b945e070b8",
   "metadata": {},
   "outputs": [],
   "source": [
    "# Función que devuelve un número del 1 al 9 que indica la nota del arreglo.\n",
    "def nota_arreglo(arreglo):\n",
    "    return 9 - np.unique(arreglo).size # Es la cantidad de números repetidos en un arreglo."
   ]
  },
  {
   "cell_type": "markdown",
   "id": "e2688ee6-7fd3-4298-b237-afbfbafe4210",
   "metadata": {},
   "source": [
    "#### Se realiza una función que determina la nota de un individuo."
   ]
  },
  {
   "cell_type": "code",
   "execution_count": 24,
   "id": "fbc9fe1a-425a-460e-bffe-ae239484c608",
   "metadata": {},
   "outputs": [],
   "source": [
    "# Función que determina la nota de un individuo, mediante las notas de sus columnas y fils.\n",
    "def nota_individuo(ind):\n",
    "    nota_neg = 0 # Almacena la nota que determina la cantidad de valores repetidos.\n",
    "    nota_neg = sum(nota_arreglo(ind[:, j]) for j in range(9)) # La cantidad de valores repetidos por columna en todas las columnas.\n",
    "    nota_neg += sum(nota_arreglo(ind[i, :]) for i in range(9)) # La cantidad de valores repetidos por fila en todas las filas.\n",
    "    return 162 - nota_neg # Devuelve la nota del individuo."
   ]
  },
  {
   "cell_type": "markdown",
   "id": "3781ced6-af2e-499f-85fb-2433d4f96ea0",
   "metadata": {},
   "source": [
    "#### Se realiza una función que determina las notas de la población."
   ]
  },
  {
   "cell_type": "code",
   "execution_count": 27,
   "id": "4c35b761-71f9-42e1-8974-62f499021982",
   "metadata": {},
   "outputs": [],
   "source": [
    "# Función que devuelve una lista con las notas de cada individuo de la población.\n",
    "def notas_individuos(poblacion):\n",
    "    return [nota_individuo(x) for x in poblacion]"
   ]
  },
  {
   "cell_type": "markdown",
   "id": "aa5735e6-505d-45d2-8d01-230cff3718e8",
   "metadata": {},
   "source": [
    "### Funciones de Selección."
   ]
  },
  {
   "cell_type": "markdown",
   "id": "77f10597-2c40-43fd-ba84-30ef43e753fc",
   "metadata": {},
   "source": [
    "#### Se realiza una función que determina los m individuos con notas más altas."
   ]
  },
  {
   "cell_type": "code",
   "execution_count": 58,
   "id": "dfb78269-ba80-417e-8157-93b9fb49c984",
   "metadata": {},
   "outputs": [],
   "source": [
    "# Función que devuelve las posiciones correspondientes a las mejores notas.\n",
    "def topm(notas, m):\n",
    "    enumerada = list(enumerate(notas)) # lista de enumerados.\n",
    "    enumerada.sort(key=lambda x: x[1], reverse=True) # Se ordena en función de los valores de las notas.\n",
    "    return [idx for idx, valor in enumerada[:m]] # Se devuelve los m índices correspondientes a las notas más altas."
   ]
  },
  {
   "cell_type": "markdown",
   "id": "73649017-4683-4649-90e0-d7f8f43607dc",
   "metadata": {},
   "source": [
    "#### Se realiza una función que permite seleccionar individuos de la población."
   ]
  },
  {
   "cell_type": "code",
   "execution_count": 60,
   "id": "1a4fd234-50b8-4799-a56e-cae705e0c301",
   "metadata": {},
   "outputs": [],
   "source": [
    "# Función que selecciona individuos de la población.\n",
    "def seleccion(poblacion, notas, m, torneo, elites, aleatorios):\n",
    "    n = len(poblacion) # Número de individuos.\n",
    "    mejores = int(m*elites) # Cantidad de mejores individuos a elegir.\n",
    "    azar = int(m*aleatorios) # Cantidad de individuos al azar a elegir.\n",
    "    torneos = m - mejores - azar # Cantidad de individuos elegidos por torneo.\n",
    "    \n",
    "    elegidos = [poblacion[i] for i in topm(notas, mejores)] # Elegidos por mejores notas.\n",
    "\n",
    "    elegidos_azar = random.choices(poblacion, k=azar) # Elegidos al azar.\n",
    "    for i in elegidos_azar:\n",
    "        elegidos.append(i)\n",
    "\n",
    "    for _ in range(torneos): # Elección por torneo.\n",
    "        cand = random.sample(range(n), min(torneo, n)) # Se eligen candidatos al azar.\n",
    "        ganador = max(cand, key=lambda i: notas[i]) # Elegimos al de mejor nota entre los candidatos.\n",
    "        elegidos.append(poblacion[ganador])\n",
    "        \n",
    "    return elegidos # Listado de individuos elegidos."
   ]
  },
  {
   "cell_type": "markdown",
   "id": "e62171ac-cafe-45b8-9e53-66676c0b19a0",
   "metadata": {},
   "source": [
    "### Funciones de cruce."
   ]
  },
  {
   "cell_type": "markdown",
   "id": "fb26698f-927e-4534-a9cb-a80f14f3b485",
   "metadata": {},
   "source": [
    "#### Se realiza una función que genera el cruce entre los individuos seleccionados."
   ]
  },
  {
   "cell_type": "code",
   "execution_count": 62,
   "id": "4c7fe5bf-730f-4cc5-9939-3d715b91b057",
   "metadata": {},
   "outputs": [],
   "source": [
    "# Función que permite cruzar los individuos seleccionados.\n",
    "def cruzar(elegidos, n):\n",
    "    m = len(elegidos) # Número de elegidos.\n",
    "    hijos = [] # Lista donde se almacenará la nueva generación.\n",
    "    \n",
    "    for _ in range(n): # Ciclo que permite crear n individuos a partir del cruce.\n",
    "        nuevo = np.zeros((9, 9), dtype = int) # \n",
    "        for f in range(0, 9, 3): # Recorre las filas de los subcuadros.\n",
    "            for c in range(0, 9, 3): # Recorre las columnas de los subcuadros.\n",
    "                nuevo[f:f+3, c:c+3] = random.choices(elegidos, k=1)[0][f:f+3, c:c+3] # Se asigna un subcuadro al hijo.\n",
    "        hijos.append(nuevo)\n",
    "    return hijos # Se devuelve los individuos de la nueva generación."
   ]
  },
  {
   "cell_type": "markdown",
   "id": "42a4d20f-6042-4a54-ac80-f17b1f267d3f",
   "metadata": {},
   "source": [
    "### Funciones de mutación."
   ]
  },
  {
   "cell_type": "markdown",
   "id": "13d2244a-8bfd-4cb1-ba33-e14b28c29863",
   "metadata": {},
   "source": [
    "#### Se realiza una función que permite mutar a un individuo."
   ]
  },
  {
   "cell_type": "code",
   "execution_count": 72,
   "id": "e22ab50b-568e-4151-978c-5b6adf145fe2",
   "metadata": {},
   "outputs": [],
   "source": [
    "# Función que permite mutar un individuo.\n",
    "def mutar(individuo, d):\n",
    "    for _ in range(d): # La cantidad de mutaciones requeridas.\n",
    "        (f1, c1), (f2, c2) = random.sample(mutables[random.randint(0, 8)], 2) # Índices de las celdas a mutar.\n",
    "        individuo[f1, c1], individuo[f2, c2] = individuo[f2, c2], individuo[f1, c1]  # Realiza el cambio de valores de celdas de un mismo subcuadro.\n",
    "    return individuo # Devuelve al individuo mutado."
   ]
  },
  {
   "cell_type": "markdown",
   "id": "50a3245c-f7c6-45f2-be3b-b9674c9c397f",
   "metadata": {},
   "source": [
    "#### Se realiza una función que permite mutar a cada individuo de la población."
   ]
  },
  {
   "cell_type": "code",
   "execution_count": null,
   "id": "31618c7d-86a1-4ce9-a349-47c906fcee16",
   "metadata": {},
   "outputs": [],
   "source": [
    "# Función que muta a todos los individuos de la población.\n",
    "def mutar_poblacion(poblacion, d):\n",
    "    for j in range(len(poblacion)): # Ciclo para recorrer a todos los individuos.\n",
    "        poblacion[j] = mutar(poblacion[j], d) # Se muta al individuo.\n",
    "    return poblacion # Se devuelve la población mutada."
   ]
  },
  {
   "cell_type": "markdown",
   "id": "e5ddb4a0-ff3d-49b9-896b-1c6f6308efed",
   "metadata": {},
   "source": [
    "### Algoritmo genético"
   ]
  },
  {
   "cell_type": "code",
   "execution_count": 260,
   "id": "218911c6-3c5a-4bbe-8249-45a386d96b72",
   "metadata": {},
   "outputs": [],
   "source": [
    "def sudoku_genetico(n, m, d, max_gen = 5000, torneo = 3, elites = 0.6, aleatorios = 0.2):\n",
    "    \n",
    "    random.seed(10) # Semilla aleatoria.\n",
    "\n",
    "    generacion, reinicio, maxima_nota, cambio_mutacion = 0, 0, 0, 1# Se definen contadores y variables almacenadoras de resultados.\n",
    "    elit = int(m*elites) \n",
    "    reiniciar = int(max_gen*0.1)\n",
    "\n",
    "    poblacion = poblacion_inicial(n) # Se realiza la primera iteración de la población.\n",
    "    mutables = posiciones_mutables()\n",
    "    notas = notas_individuos(poblacion)\n",
    "    elegidos = seleccion(poblacion, notas, m, torneo, elites, aleatorios)\n",
    "\n",
    "    mejor_nota = max(notas) # Se almacena las características de mejor individuo.\n",
    "    mejor_ind = elegidos[0]\n",
    "\n",
    "\n",
    "    while maxima_nota < 162 and generacion < max_gen: # Se recorren nuevas generaciones.\n",
    "\n",
    "        mejores_ind =  elegidos[:elit] # Se crea la nueva generación.\n",
    "        hijos = cruzar(elegidos, n - m)\n",
    "        mutados = mutar_poblacion(hijos + elegidos[elit:], d)\n",
    "        poblacion = mejores_ind + mutados\n",
    "        notas = notas_individuos(poblacion)\n",
    "        elegidos = seleccion(poblacion, notas, m, torneo, elites, aleatorios)\n",
    "        \n",
    "        if max(notas) > maxima_nota: # Se realizan cambios en caso de que se haya encontrado un nuevo mejor individuo.\n",
    "            maxima_nota = max(notas)\n",
    "            mejor_ind = elegidos[0].copy()\n",
    "            cambio_mutacion, reinicio = 1, 0\n",
    "            print(generacion, maxima_nota)\n",
    "            \n",
    "        if reinicio == reiniciar: # En caso de que no se obtengan cambios se realiza una mutación completa a todos los individuos.\n",
    "            poblacion = mutar_poblacion(poblacion, cambio_mutacion * d)\n",
    "            cambio_mutacion += 1\n",
    "            reinicio = 0\n",
    "        \n",
    "        generacion += 1 # Iteradores.\n",
    "        reinicio +=1 \n",
    "        \n",
    "    return generacion, mejor_ind, maxima_nota # Se devuelve la generación, el mejor individuo y su nota."
   ]
  },
  {
   "cell_type": "markdown",
   "id": "0883eb30-eade-4910-8a0c-7cf22930200d",
   "metadata": {},
   "source": [
    "### Generación de la solución"
   ]
  },
  {
   "cell_type": "code",
   "execution_count": 273,
   "id": "333fcc3c-2070-4fbe-bd89-5be8c3ecbaea",
   "metadata": {},
   "outputs": [
    {
     "name": "stdout",
     "output_type": "stream",
     "text": [
      "0 136\n",
      "3 138\n",
      "5 140\n",
      "6 141\n",
      "10 142\n",
      "11 144\n",
      "13 146\n",
      "20 147\n",
      "22 148\n",
      "24 149\n",
      "28 151\n",
      "39 152\n",
      "56 153\n",
      "123 154\n",
      "195 156\n",
      "246 158\n",
      "807 159\n",
      "834 160\n",
      "2743 162\n"
     ]
    },
    {
     "data": {
      "text/plain": [
       "(2744,\n",
       " array([[1, 2, 3, 8, 6, 5, 4, 9, 7],\n",
       "        [7, 4, 6, 1, 2, 9, 5, 8, 3],\n",
       "        [5, 8, 9, 3, 7, 4, 1, 2, 6],\n",
       "        [4, 7, 2, 6, 5, 8, 9, 3, 1],\n",
       "        [9, 5, 1, 4, 3, 2, 6, 7, 8],\n",
       "        [6, 3, 8, 9, 1, 7, 2, 4, 5],\n",
       "        [8, 1, 7, 2, 9, 6, 3, 5, 4],\n",
       "        [3, 9, 4, 5, 8, 1, 7, 6, 2],\n",
       "        [2, 6, 5, 7, 4, 3, 8, 1, 9]]),\n",
       " 162)"
      ]
     },
     "execution_count": 273,
     "metadata": {},
     "output_type": "execute_result"
    }
   ],
   "source": [
    "#gen, sol_mio, nota = sudoku_genetico(n = 100, m = 15, d = 2, max_gen = 5000, torneo = 3, elites = 0.3, aleatorios = 0.1)\n",
    "gen, sol_mio, nota = sudoku_genetico(n = 150, m = 40, d = 2, max_gen = 5000, torneo = 4, elites = 0.3, aleatorios = 0.4)\n",
    "gen, sol_mio, nota"
   ]
  },
  {
   "cell_type": "markdown",
   "id": "074f42bf-8b35-499b-8250-23898f39ab4f",
   "metadata": {},
   "source": [
    "### Corroboración"
   ]
  },
  {
   "cell_type": "code",
   "execution_count": 275,
   "id": "abc885a7-ba38-4170-940a-8e9730792153",
   "metadata": {},
   "outputs": [],
   "source": [
    "               # 1  2  3  4  5  6  7  8  9\n",
    "sol = np.array([[1, 2, 3, 8, 6, 5, 4, 9, 7], # 1\n",
    "                [7, 4, 6, 1, 2, 9, 5, 8, 3], # 2\n",
    "                [5, 8, 9, 3, 7, 4, 1, 2, 6], # 3\n",
    "                [4, 7, 2, 6, 5, 8, 9, 3, 1], # 4\n",
    "                [9, 5, 1, 4, 3, 2, 6, 7, 8], # 5\n",
    "                [6, 3, 8, 9, 1, 7, 2, 4, 5], # 6\n",
    "                [8, 1, 7, 2, 9, 6, 3, 5, 4], # 7\n",
    "                [3, 9, 4, 5, 8, 1, 7, 6, 2], # 8\n",
    "                [2, 6, 5, 7, 4, 3, 8, 1, 9]]) # 9"
   ]
  },
  {
   "cell_type": "code",
   "execution_count": 276,
   "id": "ab7d65fd-59d1-4bb0-ada8-e470d96556aa",
   "metadata": {},
   "outputs": [
    {
     "data": {
      "text/plain": [
       "array([[0, 0, 0, 0, 0, 0, 0, 0, 0],\n",
       "       [0, 0, 0, 0, 0, 0, 0, 0, 0],\n",
       "       [0, 0, 0, 0, 0, 0, 0, 0, 0],\n",
       "       [0, 0, 0, 0, 0, 0, 0, 0, 0],\n",
       "       [0, 0, 0, 0, 0, 0, 0, 0, 0],\n",
       "       [0, 0, 0, 0, 0, 0, 0, 0, 0],\n",
       "       [0, 0, 0, 0, 0, 0, 0, 0, 0],\n",
       "       [0, 0, 0, 0, 0, 0, 0, 0, 0],\n",
       "       [0, 0, 0, 0, 0, 0, 0, 0, 0]])"
      ]
     },
     "execution_count": 276,
     "metadata": {},
     "output_type": "execute_result"
    }
   ],
   "source": [
    "sol_mio - sol"
   ]
  }
 ],
 "metadata": {
  "kernelspec": {
   "display_name": "Python 3 (ipykernel)",
   "language": "python",
   "name": "python3"
  },
  "language_info": {
   "codemirror_mode": {
    "name": "ipython",
    "version": 3
   },
   "file_extension": ".py",
   "mimetype": "text/x-python",
   "name": "python",
   "nbconvert_exporter": "python",
   "pygments_lexer": "ipython3",
   "version": "3.11.7"
  }
 },
 "nbformat": 4,
 "nbformat_minor": 5
}
