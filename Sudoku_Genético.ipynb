{
 "cells": [
  {
   "cell_type": "markdown",
   "id": "1eb00de5-a710-465a-8bb9-08a0b6a45ba2",
   "metadata": {},
   "source": [
    "# Proyecto de Modelación y Simulación"
   ]
  },
  {
   "cell_type": "markdown",
   "id": "e3662b72-d607-42ce-b3cd-21b2237f5249",
   "metadata": {},
   "source": [
    "#### Se importan las librerías a utilizar."
   ]
  },
  {
   "cell_type": "code",
   "execution_count": 1,
   "id": "7352efc8-ff73-4e6e-9fae-001f89684d4d",
   "metadata": {},
   "outputs": [],
   "source": [
    "import numpy as np\n",
    "import random\n",
    "import math"
   ]
  },
  {
   "cell_type": "markdown",
   "id": "26dcab61-7c2a-4f7e-bd80-35fc9ee1c58a",
   "metadata": {},
   "source": [
    "#### Se ingresa el sudoku que se desea resolver."
   ]
  },
  {
   "cell_type": "code",
   "execution_count": 2,
   "id": "3101c416-4953-4872-9295-b5a27529abad",
   "metadata": {},
   "outputs": [],
   "source": [
    "                   # 1  2  3  4  5  6  7  8  9\n",
    "inicial = np.array([[1, 0, 3, 0, 6, 5, 0, 0, 0],   #1\n",
    "                    [7, 0, 0, 0, 2, 0, 0, 0, 0],   #2\n",
    "                    [5, 0, 0, 3, 0, 0, 0, 0, 0],   #3\n",
    "                    [0, 0, 2, 6, 5, 0, 0, 3, 0],   #4\n",
    "                    [0, 0, 1, 4, 3, 0, 6, 0, 0],   #5\n",
    "                    [0, 0, 0, 0, 1, 7, 2, 0, 5],   #6\n",
    "                    [0, 0, 0, 0, 0, 6, 0, 5, 0],   #7\n",
    "                    [0, 0, 4, 0, 8, 0, 0, 6, 0],   #8\n",
    "                    [0, 6, 0, 0, 4, 0, 0, 1, 0]])  #9"
   ]
  },
  {
   "cell_type": "markdown",
   "id": "15ba6dad-c410-4e3d-b5fc-2e8fd70da26c",
   "metadata": {},
   "source": [
    "#### Se realiza una función que determina las posiciones (fila, columna) que son mutables, agrupando por subcuadro."
   ]
  },
  {
   "cell_type": "code",
   "execution_count": 3,
   "id": "290f2c0a-d9fb-4a19-96ca-a19d1019b5ae",
   "metadata": {},
   "outputs": [],
   "source": [
    "# Función que devuelve un arreglo de las posiciones mutables del sudoku.\n",
    "def posiciones_mutables():\n",
    "    mutables = [] # Lista donde se almacenan las posiciones mutables de cada subcuadrado.\n",
    "    for fila in range(0, 9, 3): # Recorre las filas de todo el cuadro.\n",
    "        for columna in range(0, 9, 3): # Recorre las columnas de todo el cuadro.\n",
    "            posiciones = [] # Lista que almacena las posiciones mutables del subcuadrado analizado.\n",
    "            for x in range(fila, fila + 3): # Recorre las filas del subcuadrado.\n",
    "                for y in range(columna, columna + 3): # Recorre las columnas del subcuadrado.\n",
    "                    if inicial[x, y] == 0: # Define si la celda se puede mutar.\n",
    "                        posiciones.append((x, y))\n",
    "            mutables.append(posiciones)\n",
    "    return mutables # Lista con posiciones mutables.\n",
    "\n",
    "mutables = posiciones_mutables() # Matriz con las posiciones mutables."
   ]
  },
  {
   "cell_type": "markdown",
   "id": "c26aa6cc-b789-4c02-a1bf-cb483b42487f",
   "metadata": {},
   "source": [
    "#### Se realiza una función que determina los números que faltan en un arreglo."
   ]
  },
  {
   "cell_type": "code",
   "execution_count": 4,
   "id": "531bf5c4-ac1c-4051-9b7f-0e8ce6e7e1c7",
   "metadata": {},
   "outputs": [],
   "source": [
    "# Se establece un arreglo con los números que debe tener un arreglo del sudoku.\n",
    "numeros = np.arange(1, 10)\n",
    "\n",
    "# Función que devuelve una lista con los número que le faltan a un arreglo de entrada.\n",
    "def numeros_faltantes(arreglo):\n",
    "    return list(set(numeros) - set(arreglo)) # Se calcula la diferencia de conjuntos para determinar los faltantes.\n",
    "\n",
    "# Se genera una lista con las listas de números faltantes en cada subcuadro.\n",
    "faltantes = [numeros_faltantes(inicial[f:f+3, c:c+3].flatten()) for f in range(0, 9, 3) for c in range(0, 9, 3)]"
   ]
  },
  {
   "cell_type": "markdown",
   "id": "39309c75-1e77-4080-8571-bde9fc44da98",
   "metadata": {},
   "source": [
    "### Funciones que generan la población inicial."
   ]
  },
  {
   "cell_type": "markdown",
   "id": "b17c495d-d886-4d59-86ac-c006f169e9cf",
   "metadata": {},
   "source": [
    "#### Se realiza una función que permite crear un individuo nuevo."
   ]
  },
  {
   "cell_type": "code",
   "execution_count": 5,
   "id": "2fbb5c07-7afa-4c47-ab98-70bdca89aff8",
   "metadata": {},
   "outputs": [],
   "source": [
    "# Función que crea un nuevo individuo dejando invariantes las celdas iniciales.\n",
    "def individuo_nuevo(ind):\n",
    "    cont = 0 # Contador que permite recorrer las listas de faltantes de los sucuadros.\n",
    "    for f in range(0, 9, 3): # Recorre las filas de todo el cuadro.\n",
    "        for c in range(0, 9, 3): # Recorre las columnas de todo el cuadro.\n",
    "            faltante = faltantes[cont][:] # Se define la lista de números del subcuadro.\n",
    "            cont2 = 0 # Se define un contador que asegura que todos los fatantes serán usados.\n",
    "            random.shuffle(faltante) # Se ordenan los faltantes de forma aleatoria.\n",
    "            for x in range(f, f + 3): # Recorre las filas de los subcuadros.\n",
    "                for y in range(c, c + 3): # Recorre las columnas de los subcuadros.\n",
    "                    if inicial[x, y] == 0: # Condición de que falta un número.\n",
    "                        ind[x, y] = faltante[cont2] # Se asigna un número faltante.\n",
    "                        cont2 += 1\n",
    "            cont += 1\n",
    "    return ind.astype(int)"
   ]
  },
  {
   "cell_type": "markdown",
   "id": "a3c638ee-504a-47ba-948b-bd6b7f2f5052",
   "metadata": {},
   "source": [
    "#### Se realiza una función que permite crear la población inicial."
   ]
  },
  {
   "cell_type": "code",
   "execution_count": 6,
   "id": "9cc4c7af-0d3a-4450-83ac-3be7b74b03e1",
   "metadata": {},
   "outputs": [],
   "source": [
    "# Función que develve una lista de tamaño n con nuevos individuos.\n",
    "def poblacion_inicial(n):\n",
    "    return [individuo_nuevo(inicial.copy()) for x in range(n)]"
   ]
  },
  {
   "cell_type": "markdown",
   "id": "3dfde944-ab7f-49ed-9b81-6477503a4173",
   "metadata": {},
   "source": [
    "### Funciones Fitness."
   ]
  },
  {
   "cell_type": "markdown",
   "id": "019ced33-e627-402d-b5ea-73c636f772fe",
   "metadata": {},
   "source": [
    "#### Se realiza una función que determina la nota de un arreglo."
   ]
  },
  {
   "cell_type": "code",
   "execution_count": 7,
   "id": "8da281d3-b6bc-4c11-b73a-35b945e070b8",
   "metadata": {},
   "outputs": [],
   "source": [
    "# Función que devuelve un número del 1 al 9 que indica la nota del arreglo.\n",
    "def nota_arreglo(arreglo):\n",
    "    return 9 - np.unique(arreglo).size # Es la cantidad de números repetidos en un arreglo."
   ]
  },
  {
   "cell_type": "markdown",
   "id": "e2688ee6-7fd3-4298-b237-afbfbafe4210",
   "metadata": {},
   "source": [
    "#### Se realiza una función que determina la nota de un individuo."
   ]
  },
  {
   "cell_type": "code",
   "execution_count": 8,
   "id": "fbc9fe1a-425a-460e-bffe-ae239484c608",
   "metadata": {},
   "outputs": [],
   "source": [
    "# Función que determina la nota de un individuo, mediante las notas de sus columnas y fils.\n",
    "def nota_individuo(ind):\n",
    "    nota_neg = 0 # Almacena la nota que determina la cantidad de valores repetidos.\n",
    "    nota_neg = sum(nota_arreglo(ind[:, j]) for j in range(9)) # La cantidad de valores repetidos por columna en todas las columnas.\n",
    "    nota_neg += sum(nota_arreglo(ind[i, :]) for i in range(9)) # La cantidad de valores repetidos por fila en todas las filas.\n",
    "    return 162 - nota_neg # Devuelve la nota del individuo."
   ]
  },
  {
   "cell_type": "markdown",
   "id": "3781ced6-af2e-499f-85fb-2433d4f96ea0",
   "metadata": {},
   "source": [
    "#### Se realiza una función que determina las notas de la población."
   ]
  },
  {
   "cell_type": "code",
   "execution_count": 9,
   "id": "4c35b761-71f9-42e1-8974-62f499021982",
   "metadata": {},
   "outputs": [],
   "source": [
    "# Función que devuelve una lista con las notas de cada individuo de la población.\n",
    "def notas_individuos(poblacion):\n",
    "    return [nota_individuo(x) for x in poblacion]"
   ]
  },
  {
   "cell_type": "markdown",
   "id": "aa5735e6-505d-45d2-8d01-230cff3718e8",
   "metadata": {},
   "source": [
    "### Funciones de Selección."
   ]
  },
  {
   "cell_type": "markdown",
   "id": "77f10597-2c40-43fd-ba84-30ef43e753fc",
   "metadata": {},
   "source": [
    "#### Se realiza una función que determina los m individuos con notas más altas."
   ]
  },
  {
   "cell_type": "code",
   "execution_count": 10,
   "id": "dfb78269-ba80-417e-8157-93b9fb49c984",
   "metadata": {},
   "outputs": [],
   "source": [
    "# Función que devuelve las posiciones correspondientes a las mejores notas.\n",
    "def topm(notas, m):\n",
    "    enumerada = list(enumerate(notas)) # lista de enumerados.\n",
    "    enumerada.sort(key=lambda x: x[1], reverse=True) # Se ordena en función de los valores de las notas.\n",
    "    return [idx for idx, valor in enumerada[:m]] # Se devuelve los m índices correspondientes a las notas más altas."
   ]
  },
  {
   "cell_type": "markdown",
   "id": "73649017-4683-4649-90e0-d7f8f43607dc",
   "metadata": {},
   "source": [
    "#### Se realiza una función que permite seleccionar individuos de la población."
   ]
  },
  {
   "cell_type": "code",
   "execution_count": 11,
   "id": "1a4fd234-50b8-4799-a56e-cae705e0c301",
   "metadata": {},
   "outputs": [],
   "source": [
    "# Función que selecciona individuos de la población.\n",
    "def seleccion(poblacion, notas, m, torneo, elites, aleatorios):\n",
    "    n = len(poblacion) # Número de individuos.\n",
    "    mejores = int(m*elites) # Cantidad de mejores individuos a elegir.\n",
    "    azar = int(m*aleatorios) # Cantidad de individuos al azar a elegir.\n",
    "    torneos = m - mejores - azar # Cantidad de individuos elegidos por torneo.\n",
    "    \n",
    "    elegidos = [poblacion[i] for i in topm(notas, mejores)] # Elegidos por mejores notas.\n",
    "\n",
    "    elegidos_azar = random.choices(poblacion, k=azar) # Elegidos al azar.\n",
    "    for i in elegidos_azar:\n",
    "        elegidos.append(i)\n",
    "\n",
    "    for _ in range(torneos): # Elección por torneo.\n",
    "        cand = random.sample(range(n), min(torneo, n)) # Se eligen candidatos al azar.\n",
    "        ganador = max(cand, key=lambda i: notas[i]) # Elegimos al de mejor nota entre los candidatos.\n",
    "        elegidos.append(poblacion[ganador])\n",
    "        \n",
    "    return elegidos # Listado de individuos elegidos."
   ]
  },
  {
   "cell_type": "markdown",
   "id": "e62171ac-cafe-45b8-9e53-66676c0b19a0",
   "metadata": {},
   "source": [
    "### Funciones de cruce."
   ]
  },
  {
   "cell_type": "markdown",
   "id": "fb26698f-927e-4534-a9cb-a80f14f3b485",
   "metadata": {},
   "source": [
    "#### Se realiza una función que genera el cruce entre los individuos seleccionados."
   ]
  },
  {
   "cell_type": "code",
   "execution_count": 12,
   "id": "4c7fe5bf-730f-4cc5-9939-3d715b91b057",
   "metadata": {},
   "outputs": [],
   "source": [
    "# Función que permite cruzar los individuos seleccionados.\n",
    "def cruzar(elegidos, n):\n",
    "    m = len(elegidos) # Número de elegidos.\n",
    "    hijos = [] # Lista donde se almacenará la nueva generación.\n",
    "    \n",
    "    for _ in range(n): # Ciclo que permite crear n individuos a partir del cruce.\n",
    "        nuevo = np.zeros((9, 9), dtype = int) # \n",
    "        for f in range(0, 9, 3): # Recorre las filas de los subcuadros.\n",
    "            for c in range(0, 9, 3): # Recorre las columnas de los subcuadros.\n",
    "                nuevo[f:f+3, c:c+3] = random.choices(elegidos, k=1)[0][f:f+3, c:c+3] # Se asigna un subcuadro al hijo.\n",
    "        hijos.append(nuevo)\n",
    "    return hijos # Se devuelve los individuos de la nueva generación."
   ]
  },
  {
   "cell_type": "markdown",
   "id": "42a4d20f-6042-4a54-ac80-f17b1f267d3f",
   "metadata": {},
   "source": [
    "### Funciones de mutación."
   ]
  },
  {
   "cell_type": "markdown",
   "id": "13d2244a-8bfd-4cb1-ba33-e14b28c29863",
   "metadata": {},
   "source": [
    "#### Se realiza una función que permite mutar a un individuo."
   ]
  },
  {
   "cell_type": "code",
   "execution_count": 13,
   "id": "e22ab50b-568e-4151-978c-5b6adf145fe2",
   "metadata": {},
   "outputs": [],
   "source": [
    "# Función que permite mutar un individuo.\n",
    "def mutar(individuo, d):\n",
    "    for _ in range(d): # La cantidad de mutaciones requeridas.\n",
    "        (f1, c1), (f2, c2) = random.sample(mutables[random.randint(0, 8)], 2) # Índices de las celdas a mutar.\n",
    "        individuo[f1, c1], individuo[f2, c2] = individuo[f2, c2], individuo[f1, c1]  # Realiza el cambio de valores de celdas de un mismo subcuadro.\n",
    "    return individuo # Devuelve al individuo mutado."
   ]
  },
  {
   "cell_type": "markdown",
   "id": "50a3245c-f7c6-45f2-be3b-b9674c9c397f",
   "metadata": {},
   "source": [
    "#### Se realiza una función que permite mutar a cada individuo de la población."
   ]
  },
  {
   "cell_type": "code",
   "execution_count": 14,
   "id": "31618c7d-86a1-4ce9-a349-47c906fcee16",
   "metadata": {},
   "outputs": [],
   "source": [
    "# Función que muta a todos los individuos de la población.\n",
    "def mutar_poblacion(poblacion, d):\n",
    "    for j in range(len(poblacion)): # Ciclo para recorrer a todos los individuos.\n",
    "        poblacion[j] = mutar(poblacion[j], d) # Se muta al individuo.\n",
    "    return poblacion # Se devuelve la población mutada."
   ]
  },
  {
   "cell_type": "markdown",
   "id": "e5ddb4a0-ff3d-49b9-896b-1c6f6308efed",
   "metadata": {},
   "source": [
    "### Algoritmo genético"
   ]
  },
  {
   "cell_type": "code",
   "execution_count": 15,
   "id": "218911c6-3c5a-4bbe-8249-45a386d96b72",
   "metadata": {},
   "outputs": [],
   "source": [
    "def sudoku_genetico(n, m, d, max_gen = 5000, torneo = 3, elites = 0.6, aleatorios = 0.2):\n",
    "    \n",
    "    random.seed(10) # Semilla aleatoria.\n",
    "\n",
    "    generacion, reinicio, maxima_nota, cambio_mutacion = 0, 0, 0, 1# Se definen contadores y variables almacenadoras de resultados.\n",
    "    elit = int(m*elites) \n",
    "    reiniciar = int(max_gen*0.1)\n",
    "\n",
    "    poblacion = poblacion_inicial(n) # Se realiza la primera iteración de la población.\n",
    "    mutables = posiciones_mutables()\n",
    "    notas = notas_individuos(poblacion)\n",
    "    elegidos = seleccion(poblacion, notas, m, torneo, elites, aleatorios)\n",
    "\n",
    "    mejor_nota = max(notas) # Se almacena las características de mejor individuo.\n",
    "    mejor_ind = elegidos[0]\n",
    "\n",
    "\n",
    "    while maxima_nota < 162 and generacion < max_gen: # Se recorren nuevas generaciones.\n",
    "\n",
    "        mejores_ind =  elegidos[:elit] # Se crea la nueva generación.\n",
    "        hijos = cruzar(elegidos, n - m)\n",
    "        mutados = mutar_poblacion(hijos + elegidos[elit:], d)\n",
    "        poblacion = mejores_ind + mutados\n",
    "        notas = notas_individuos(poblacion)\n",
    "        elegidos = seleccion(poblacion, notas, m, torneo, elites, aleatorios)\n",
    "        \n",
    "        if max(notas) > maxima_nota: # Se realizan cambios en caso de que se haya encontrado un nuevo mejor individuo.\n",
    "            maxima_nota = max(notas)\n",
    "            mejor_ind = elegidos[0].copy()\n",
    "            cambio_mutacion, reinicio = 1, 0\n",
    "            print(generacion, maxima_nota)\n",
    "            \n",
    "        if reinicio == reiniciar: # En caso de que no se obtengan cambios se realiza una mutación completa a todos los individuos.\n",
    "            poblacion = mutar_poblacion(poblacion, cambio_mutacion * d)\n",
    "            cambio_mutacion += 1\n",
    "            reinicio = 0\n",
    "        \n",
    "        generacion += 1 # Iteradores.\n",
    "        reinicio +=1 \n",
    "        \n",
    "    return generacion, mejor_ind, maxima_nota # Se devuelve la generación, el mejor individuo y su nota."
   ]
  },
  {
   "cell_type": "markdown",
   "id": "0883eb30-eade-4910-8a0c-7cf22930200d",
   "metadata": {},
   "source": [
    "### Generación de la solución"
   ]
  },
  {
   "cell_type": "code",
   "execution_count": 16,
   "id": "e0798d68-753a-4d6d-8232-b13c10448df0",
   "metadata": {},
   "outputs": [
    {
     "name": "stdout",
     "output_type": "stream",
     "text": [
      "0 136\n",
      "3 138\n",
      "5 140\n",
      "6 141\n",
      "10 142\n",
      "11 144\n",
      "13 146\n",
      "20 147\n",
      "22 148\n",
      "24 149\n",
      "28 151\n",
      "39 152\n",
      "56 153\n",
      "123 154\n",
      "195 156\n",
      "246 158\n",
      "807 159\n",
      "834 160\n",
      "2743 162\n"
     ]
    },
    {
     "data": {
      "text/plain": [
       "(2744,\n",
       " array([[1, 2, 3, 8, 6, 5, 4, 9, 7],\n",
       "        [7, 4, 6, 1, 2, 9, 5, 8, 3],\n",
       "        [5, 8, 9, 3, 7, 4, 1, 2, 6],\n",
       "        [4, 7, 2, 6, 5, 8, 9, 3, 1],\n",
       "        [9, 5, 1, 4, 3, 2, 6, 7, 8],\n",
       "        [6, 3, 8, 9, 1, 7, 2, 4, 5],\n",
       "        [8, 1, 7, 2, 9, 6, 3, 5, 4],\n",
       "        [3, 9, 4, 5, 8, 1, 7, 6, 2],\n",
       "        [2, 6, 5, 7, 4, 3, 8, 1, 9]]),\n",
       " 162)"
      ]
     },
     "execution_count": 16,
     "metadata": {},
     "output_type": "execute_result"
    }
   ],
   "source": [
    "#gen, sol_mio, nota = sudoku_genetico(n = 100, m = 15, d = 2, max_gen = 5000, torneo = 3, elites = 0.3, aleatorios = 0.1)\n",
    "gen, sol_mio, nota = sudoku_genetico(n = 150, m = 40, d = 2, max_gen = 5000, torneo = 4, elites = 0.3, aleatorios = 0.4)\n",
    "gen, sol_mio, nota"
   ]
  },
  {
   "cell_type": "markdown",
   "id": "074f42bf-8b35-499b-8250-23898f39ab4f",
   "metadata": {},
   "source": [
    "### Corroboración"
   ]
  },
  {
   "cell_type": "code",
   "execution_count": 17,
   "id": "abc885a7-ba38-4170-940a-8e9730792153",
   "metadata": {},
   "outputs": [],
   "source": [
    "               # 1  2  3  4  5  6  7  8  9\n",
    "sol = np.array([[1, 2, 3, 8, 6, 5, 4, 9, 7], # 1\n",
    "                [7, 4, 6, 1, 2, 9, 5, 8, 3], # 2\n",
    "                [5, 8, 9, 3, 7, 4, 1, 2, 6], # 3\n",
    "                [4, 7, 2, 6, 5, 8, 9, 3, 1], # 4\n",
    "                [9, 5, 1, 4, 3, 2, 6, 7, 8], # 5\n",
    "                [6, 3, 8, 9, 1, 7, 2, 4, 5], # 6\n",
    "                [8, 1, 7, 2, 9, 6, 3, 5, 4], # 7\n",
    "                [3, 9, 4, 5, 8, 1, 7, 6, 2], # 8\n",
    "                [2, 6, 5, 7, 4, 3, 8, 1, 9]]) # 9"
   ]
  },
  {
   "cell_type": "code",
   "execution_count": 18,
   "id": "ab7d65fd-59d1-4bb0-ada8-e470d96556aa",
   "metadata": {},
   "outputs": [
    {
     "data": {
      "text/plain": [
       "array([[0, 0, 0, 0, 0, 0, 0, 0, 0],\n",
       "       [0, 0, 0, 0, 0, 0, 0, 0, 0],\n",
       "       [0, 0, 0, 0, 0, 0, 0, 0, 0],\n",
       "       [0, 0, 0, 0, 0, 0, 0, 0, 0],\n",
       "       [0, 0, 0, 0, 0, 0, 0, 0, 0],\n",
       "       [0, 0, 0, 0, 0, 0, 0, 0, 0],\n",
       "       [0, 0, 0, 0, 0, 0, 0, 0, 0],\n",
       "       [0, 0, 0, 0, 0, 0, 0, 0, 0],\n",
       "       [0, 0, 0, 0, 0, 0, 0, 0, 0]])"
      ]
     },
     "execution_count": 18,
     "metadata": {},
     "output_type": "execute_result"
    }
   ],
   "source": [
    "sol_mio - sol"
   ]
  },
  {
   "cell_type": "markdown",
   "id": "ad05471d-ac7e-41f8-8262-5cec9c71dab2",
   "metadata": {},
   "source": [
    "CasoI:reducción de la población (n) con el número de elegidos m=15"
   ]
  },
  {
   "cell_type": "markdown",
   "id": "e217e476-2e34-4b76-9f35-a05c3159c11d",
   "metadata": {},
   "source": [
    "n=100"
   ]
  },
  {
   "cell_type": "code",
   "execution_count": 19,
   "id": "7f8c3ca5-dcd8-4503-88e7-d84141f5ebb4",
   "metadata": {},
   "outputs": [
    {
     "name": "stdout",
     "output_type": "stream",
     "text": [
      "0 129\n",
      "1 136\n",
      "3 138\n",
      "4 139\n",
      "5 140\n",
      "6 141\n",
      "7 142\n",
      "12 143\n",
      "14 144\n",
      "15 146\n",
      "21 147\n",
      "32 148\n",
      "33 149\n",
      "39 151\n",
      "45 152\n",
      "48 153\n",
      "54 154\n",
      "63 156\n",
      "124 157\n",
      "130 158\n",
      "202 159\n",
      "352 160\n",
      "901 162\n"
     ]
    },
    {
     "data": {
      "text/plain": [
       "(902,\n",
       " array([[1, 2, 3, 8, 6, 5, 4, 9, 7],\n",
       "        [7, 4, 6, 1, 2, 9, 5, 8, 3],\n",
       "        [5, 8, 9, 3, 7, 4, 1, 2, 6],\n",
       "        [4, 7, 2, 6, 5, 8, 9, 3, 1],\n",
       "        [9, 5, 1, 4, 3, 2, 6, 7, 8],\n",
       "        [6, 3, 8, 9, 1, 7, 2, 4, 5],\n",
       "        [8, 1, 7, 2, 9, 6, 3, 5, 4],\n",
       "        [3, 9, 4, 5, 8, 1, 7, 6, 2],\n",
       "        [2, 6, 5, 7, 4, 3, 8, 1, 9]]),\n",
       " 162)"
      ]
     },
     "execution_count": 19,
     "metadata": {},
     "output_type": "execute_result"
    }
   ],
   "source": [
    "gen, sol_mio, nota = sudoku_genetico(n = 100, m = 15, d = 2, max_gen = 5000, torneo = 3, elites = 0.3, aleatorios = 0.1)\n",
    "gen, sol_mio, nota"
   ]
  },
  {
   "cell_type": "markdown",
   "id": "b0168870-05f7-4e0b-9542-096fbd4a8536",
   "metadata": {},
   "source": [
    "n=50"
   ]
  },
  {
   "cell_type": "code",
   "execution_count": 20,
   "id": "af76f60f-b44e-4e2a-83c3-dcbf2faab275",
   "metadata": {},
   "outputs": [
    {
     "name": "stdout",
     "output_type": "stream",
     "text": [
      "0 134\n",
      "4 136\n",
      "5 138\n",
      "6 140\n",
      "9 141\n",
      "10 144\n",
      "13 145\n",
      "17 146\n",
      "20 147\n",
      "21 148\n",
      "41 150\n",
      "48 151\n",
      "50 152\n",
      "88 153\n",
      "113 154\n",
      "293 158\n",
      "1082 159\n",
      "2774 160\n"
     ]
    },
    {
     "data": {
      "text/plain": [
       "(5000,\n",
       " array([[1, 2, 3, 8, 6, 5, 4, 9, 7],\n",
       "        [7, 4, 6, 1, 2, 9, 5, 8, 3],\n",
       "        [5, 8, 9, 3, 7, 4, 1, 2, 6],\n",
       "        [4, 7, 2, 6, 5, 8, 9, 3, 1],\n",
       "        [9, 5, 1, 4, 3, 2, 6, 7, 8],\n",
       "        [6, 3, 8, 9, 1, 7, 2, 4, 5],\n",
       "        [3, 1, 7, 2, 9, 6, 7, 5, 4],\n",
       "        [8, 9, 4, 5, 8, 1, 3, 6, 2],\n",
       "        [2, 6, 5, 7, 4, 3, 8, 1, 9]]),\n",
       " 160)"
      ]
     },
     "execution_count": 20,
     "metadata": {},
     "output_type": "execute_result"
    }
   ],
   "source": [
    "gen, sol_mio, nota = sudoku_genetico(n = 50, m = 15, d = 2, max_gen = 5000, torneo = 3, elites = 0.3, aleatorios = 0.1)\n",
    "gen, sol_mio, nota"
   ]
  },
  {
   "cell_type": "markdown",
   "id": "ede81e1c-b0f5-438f-8c28-2ed43c16d29d",
   "metadata": {},
   "source": [
    "n=30"
   ]
  },
  {
   "cell_type": "code",
   "execution_count": 21,
   "id": "34dd58db-185b-43bd-8187-99f017494e88",
   "metadata": {},
   "outputs": [
    {
     "name": "stdout",
     "output_type": "stream",
     "text": [
      "0 131\n",
      "1 132\n",
      "2 137\n",
      "3 138\n",
      "9 140\n",
      "11 142\n",
      "13 143\n",
      "25 144\n",
      "28 146\n",
      "44 149\n",
      "235 150\n",
      "240 151\n",
      "667 152\n",
      "711 153\n",
      "3447 154\n"
     ]
    },
    {
     "data": {
      "text/plain": [
       "(5000,\n",
       " array([[1, 8, 3, 9, 6, 5, 4, 8, 7],\n",
       "        [7, 4, 6, 8, 2, 1, 5, 9, 3],\n",
       "        [5, 2, 9, 3, 7, 4, 1, 2, 6],\n",
       "        [4, 5, 2, 6, 5, 8, 9, 3, 1],\n",
       "        [6, 7, 1, 4, 3, 9, 6, 7, 8],\n",
       "        [9, 3, 8, 2, 1, 7, 2, 4, 5],\n",
       "        [8, 1, 7, 5, 9, 6, 3, 5, 2],\n",
       "        [2, 9, 4, 1, 8, 3, 7, 6, 4],\n",
       "        [3, 6, 5, 7, 4, 2, 8, 1, 9]]),\n",
       " 154)"
      ]
     },
     "execution_count": 21,
     "metadata": {},
     "output_type": "execute_result"
    }
   ],
   "source": [
    "gen, sol_mio, nota = sudoku_genetico(n = 30, m = 15, d = 2, max_gen = 5000, torneo = 3, elites = 0.3, aleatorios = 0.1)\n",
    "gen, sol_mio, nota"
   ]
  },
  {
   "cell_type": "markdown",
   "id": "2cb1c1f6-5894-4de6-8879-66e9c92d3d26",
   "metadata": {},
   "source": [
    "n=20"
   ]
  },
  {
   "cell_type": "code",
   "execution_count": 22,
   "id": "3dc1a285-66c1-4005-897e-e5f7461149a9",
   "metadata": {},
   "outputs": [
    {
     "name": "stdout",
     "output_type": "stream",
     "text": [
      "0 126\n",
      "1 129\n",
      "3 130\n",
      "4 131\n",
      "5 133\n",
      "8 134\n",
      "12 135\n",
      "13 137\n",
      "22 138\n",
      "39 139\n",
      "43 141\n",
      "74 142\n",
      "101 144\n",
      "1651 145\n",
      "4604 146\n"
     ]
    },
    {
     "data": {
      "text/plain": [
       "(5000,\n",
       " array([[1, 8, 3, 7, 6, 5, 9, 5, 3],\n",
       "        [7, 9, 2, 8, 2, 4, 1, 7, 6],\n",
       "        [5, 4, 6, 3, 9, 1, 4, 2, 8],\n",
       "        [4, 7, 2, 6, 5, 8, 9, 3, 1],\n",
       "        [9, 5, 1, 4, 3, 2, 6, 8, 7],\n",
       "        [3, 6, 8, 9, 1, 7, 2, 4, 5],\n",
       "        [8, 2, 7, 1, 7, 6, 3, 5, 9],\n",
       "        [5, 1, 4, 9, 8, 3, 7, 6, 4],\n",
       "        [3, 6, 9, 5, 4, 2, 8, 1, 2]]),\n",
       " 146)"
      ]
     },
     "execution_count": 22,
     "metadata": {},
     "output_type": "execute_result"
    }
   ],
   "source": [
    "gen, sol_mio, nota = sudoku_genetico(n = 20, m = 15, d = 2, max_gen = 5000, torneo = 3, elites = 0.3, aleatorios = 0.1)\n",
    "gen, sol_mio, nota"
   ]
  },
  {
   "cell_type": "markdown",
   "id": "5d68a025-b576-491f-91f3-50a21c03ced2",
   "metadata": {},
   "source": [
    "n=10"
   ]
  },
  {
   "cell_type": "code",
   "execution_count": 23,
   "id": "ba54c0ec-a0bc-4b80-8d95-3ce96cc4363f",
   "metadata": {},
   "outputs": [
    {
     "name": "stdout",
     "output_type": "stream",
     "text": [
      "0 126\n",
      "5 127\n",
      "44 128\n",
      "63 129\n",
      "109 130\n",
      "800 134\n",
      "2817 137\n"
     ]
    },
    {
     "data": {
      "text/plain": [
       "(5000,\n",
       " array([[1, 2, 3, 8, 6, 5, 6, 8, 7],\n",
       "        [7, 6, 4, 7, 2, 1, 4, 9, 3],\n",
       "        [5, 8, 9, 3, 9, 4, 5, 2, 1],\n",
       "        [4, 6, 2, 6, 5, 8, 1, 3, 7],\n",
       "        [7, 8, 1, 4, 3, 2, 6, 4, 9],\n",
       "        [9, 3, 5, 9, 1, 7, 2, 8, 5],\n",
       "        [8, 5, 9, 1, 7, 6, 3, 5, 4],\n",
       "        [2, 1, 4, 5, 8, 9, 7, 6, 8],\n",
       "        [3, 6, 7, 2, 4, 3, 2, 1, 9]]),\n",
       " 137)"
      ]
     },
     "execution_count": 23,
     "metadata": {},
     "output_type": "execute_result"
    }
   ],
   "source": [
    "gen, sol_mio, nota = sudoku_genetico(n = 10, m = 15, d = 2, max_gen = 5000, torneo = 3, elites = 0.3, aleatorios = 0.1)\n",
    "gen, sol_mio, nota"
   ]
  },
  {
   "cell_type": "markdown",
   "id": "bce640e6-07ed-46aa-8ad5-04d54add5a91",
   "metadata": {},
   "source": [
    "Aumento de población n"
   ]
  },
  {
   "cell_type": "markdown",
   "id": "3e32f571-d247-4094-b06c-b1e8b4c2c7be",
   "metadata": {},
   "source": [
    "n=200"
   ]
  },
  {
   "cell_type": "code",
   "execution_count": 24,
   "id": "08117a5a-bfb0-4bb9-a945-5c736cd6230e",
   "metadata": {},
   "outputs": [
    {
     "name": "stdout",
     "output_type": "stream",
     "text": [
      "0 136\n",
      "1 137\n",
      "3 139\n",
      "5 143\n",
      "6 144\n",
      "11 145\n",
      "13 147\n",
      "16 148\n",
      "24 150\n",
      "29 151\n",
      "59 152\n",
      "95 153\n",
      "97 154\n",
      "157 156\n",
      "584 157\n",
      "590 158\n",
      "2655 159\n",
      "2678 160\n"
     ]
    },
    {
     "data": {
      "text/plain": [
       "(5000,\n",
       " array([[1, 8, 3, 9, 6, 5, 7, 2, 4],\n",
       "        [7, 4, 6, 1, 2, 8, 5, 9, 3],\n",
       "        [5, 2, 9, 3, 7, 4, 1, 8, 6],\n",
       "        [4, 7, 2, 6, 5, 9, 8, 3, 1],\n",
       "        [8, 5, 1, 4, 3, 2, 6, 7, 9],\n",
       "        [6, 3, 9, 8, 1, 7, 2, 4, 5],\n",
       "        [3, 1, 7, 2, 9, 6, 4, 5, 8],\n",
       "        [2, 9, 4, 5, 8, 1, 3, 6, 7],\n",
       "        [8, 6, 5, 7, 4, 3, 9, 1, 2]]),\n",
       " 160)"
      ]
     },
     "execution_count": 24,
     "metadata": {},
     "output_type": "execute_result"
    }
   ],
   "source": [
    "gen, sol_mio, nota = sudoku_genetico(n = 200, m = 15, d = 2, max_gen = 5000, torneo = 3, elites = 0.3, aleatorios = 0.1)\n",
    "gen, sol_mio, nota"
   ]
  },
  {
   "cell_type": "markdown",
   "id": "aca8907b-cf4f-4312-8757-3ba9e5dbb78e",
   "metadata": {},
   "source": [
    "n=250"
   ]
  },
  {
   "cell_type": "code",
   "execution_count": 25,
   "id": "e24ae47d-a46f-4ddc-8f7b-ea77a6dff2e4",
   "metadata": {},
   "outputs": [
    {
     "name": "stdout",
     "output_type": "stream",
     "text": [
      "0 133\n",
      "1 135\n",
      "2 137\n",
      "3 138\n",
      "4 140\n",
      "5 142\n",
      "6 143\n",
      "7 146\n",
      "8 147\n",
      "9 148\n",
      "10 149\n",
      "12 150\n",
      "13 152\n",
      "25 154\n",
      "56 155\n",
      "61 156\n",
      "315 158\n"
     ]
    },
    {
     "data": {
      "text/plain": [
       "(5000,\n",
       " array([[1, 4, 3, 8, 6, 5, 9, 2, 7],\n",
       "        [7, 8, 6, 9, 2, 1, 5, 4, 3],\n",
       "        [5, 2, 9, 3, 7, 4, 1, 8, 6],\n",
       "        [9, 7, 2, 6, 5, 8, 4, 3, 1],\n",
       "        [6, 5, 1, 4, 3, 9, 6, 7, 8],\n",
       "        [4, 3, 8, 2, 1, 7, 2, 9, 5],\n",
       "        [8, 1, 5, 7, 9, 6, 3, 5, 2],\n",
       "        [3, 9, 4, 1, 8, 2, 7, 6, 4],\n",
       "        [2, 6, 7, 5, 4, 3, 8, 1, 9]]),\n",
       " 158)"
      ]
     },
     "execution_count": 25,
     "metadata": {},
     "output_type": "execute_result"
    }
   ],
   "source": [
    "gen, sol_mio, nota = sudoku_genetico(n = 250, m = 15, d = 2, max_gen = 5000, torneo = 3, elites = 0.3, aleatorios = 0.1)\n",
    "gen, sol_mio, nota"
   ]
  },
  {
   "cell_type": "markdown",
   "id": "8a731961-6250-4584-b454-194ae4f4847f",
   "metadata": {},
   "source": [
    "n=300"
   ]
  },
  {
   "cell_type": "code",
   "execution_count": 26,
   "id": "8d6a0617-d257-483f-8a2b-bab39d8a453a",
   "metadata": {},
   "outputs": [
    {
     "name": "stdout",
     "output_type": "stream",
     "text": [
      "0 136\n",
      "2 139\n",
      "3 140\n",
      "4 142\n",
      "5 144\n",
      "6 145\n",
      "8 147\n",
      "11 148\n",
      "12 149\n",
      "17 152\n",
      "21 153\n",
      "22 154\n",
      "23 155\n",
      "44 156\n",
      "53 158\n"
     ]
    },
    {
     "data": {
      "text/plain": [
       "(5000,\n",
       " array([[1, 2, 3, 8, 6, 5, 3, 9, 4],\n",
       "        [7, 4, 9, 7, 2, 1, 5, 8, 6],\n",
       "        [5, 8, 6, 3, 9, 4, 1, 2, 7],\n",
       "        [4, 7, 2, 6, 5, 8, 9, 3, 1],\n",
       "        [9, 5, 1, 4, 3, 2, 6, 7, 8],\n",
       "        [6, 3, 8, 9, 1, 7, 2, 4, 5],\n",
       "        [2, 9, 8, 1, 7, 6, 4, 5, 3],\n",
       "        [3, 1, 4, 5, 8, 9, 7, 6, 2],\n",
       "        [7, 6, 5, 2, 4, 3, 8, 1, 9]]),\n",
       " 158)"
      ]
     },
     "execution_count": 26,
     "metadata": {},
     "output_type": "execute_result"
    }
   ],
   "source": [
    "gen, sol_mio, nota = sudoku_genetico(n = 300, m = 15, d = 2, max_gen = 5000, torneo = 3, elites = 0.3, aleatorios = 0.1)\n",
    "gen, sol_mio, nota"
   ]
  },
  {
   "cell_type": "markdown",
   "id": "b009c949-2966-42e6-964b-d5eb2b3b4c8a",
   "metadata": {},
   "source": [
    "n=350"
   ]
  },
  {
   "cell_type": "code",
   "execution_count": 27,
   "id": "4b811d50-4cd7-4f36-9c0d-21faff881db7",
   "metadata": {},
   "outputs": [
    {
     "name": "stdout",
     "output_type": "stream",
     "text": [
      "0 136\n",
      "1 138\n",
      "3 139\n",
      "4 141\n",
      "5 142\n",
      "6 143\n",
      "8 146\n",
      "9 147\n",
      "12 150\n",
      "14 153\n",
      "20 156\n",
      "29 157\n",
      "32 158\n",
      "35 160\n",
      "211 162\n"
     ]
    },
    {
     "data": {
      "text/plain": [
       "(212,\n",
       " array([[1, 2, 3, 8, 6, 5, 4, 9, 7],\n",
       "        [7, 4, 6, 1, 2, 9, 5, 8, 3],\n",
       "        [5, 8, 9, 3, 7, 4, 1, 2, 6],\n",
       "        [4, 7, 2, 6, 5, 8, 9, 3, 1],\n",
       "        [9, 5, 1, 4, 3, 2, 6, 7, 8],\n",
       "        [6, 3, 8, 9, 1, 7, 2, 4, 5],\n",
       "        [8, 1, 7, 2, 9, 6, 3, 5, 4],\n",
       "        [3, 9, 4, 5, 8, 1, 7, 6, 2],\n",
       "        [2, 6, 5, 7, 4, 3, 8, 1, 9]]),\n",
       " 162)"
      ]
     },
     "execution_count": 27,
     "metadata": {},
     "output_type": "execute_result"
    }
   ],
   "source": [
    "gen, sol_mio, nota = sudoku_genetico(n = 350, m = 15, d = 2, max_gen = 5000, torneo = 3, elites = 0.3, aleatorios = 0.1)\n",
    "gen, sol_mio, nota"
   ]
  },
  {
   "cell_type": "markdown",
   "id": "a026343d-7568-40b5-b4fc-5a9550ecbabc",
   "metadata": {},
   "source": [
    "Caso: disminución de individuos elegidos de la población"
   ]
  },
  {
   "cell_type": "markdown",
   "id": "dbaf141a-d863-4f08-b5a9-8302f2fe484b",
   "metadata": {},
   "source": [
    "m=30"
   ]
  },
  {
   "cell_type": "code",
   "execution_count": 28,
   "id": "11336f04-941a-43fc-ac49-fb42ef0e9f57",
   "metadata": {},
   "outputs": [
    {
     "name": "stdout",
     "output_type": "stream",
     "text": [
      "0 136\n",
      "2 139\n",
      "5 140\n",
      "8 142\n",
      "10 143\n",
      "11 144\n",
      "12 146\n",
      "16 147\n",
      "20 148\n",
      "23 149\n",
      "27 150\n",
      "47 152\n",
      "78 153\n",
      "95 155\n",
      "119 156\n",
      "148 158\n",
      "646 160\n"
     ]
    },
    {
     "data": {
      "text/plain": [
       "(5000,\n",
       " array([[1, 2, 3, 8, 6, 5, 4, 9, 7],\n",
       "        [7, 4, 6, 9, 2, 1, 5, 8, 3],\n",
       "        [5, 9, 8, 3, 7, 4, 1, 2, 6],\n",
       "        [4, 7, 2, 6, 5, 8, 9, 3, 1],\n",
       "        [6, 5, 1, 4, 3, 9, 6, 7, 8],\n",
       "        [8, 3, 9, 2, 1, 7, 2, 4, 5],\n",
       "        [2, 8, 7, 1, 9, 6, 3, 5, 4],\n",
       "        [3, 1, 4, 5, 8, 2, 7, 6, 9],\n",
       "        [9, 6, 5, 7, 4, 3, 8, 1, 2]]),\n",
       " 160)"
      ]
     },
     "execution_count": 28,
     "metadata": {},
     "output_type": "execute_result"
    }
   ],
   "source": [
    "gen, sol_mio, nota = sudoku_genetico(n = 150, m = 30, d = 2, max_gen = 5000, torneo = 4, elites = 0.3, aleatorios = 0.4)\n",
    "gen, sol_mio, nota"
   ]
  },
  {
   "cell_type": "markdown",
   "id": "58b6fbd2-4e5b-482b-8fbc-f5ad53c89ad5",
   "metadata": {},
   "source": [
    "m=20"
   ]
  },
  {
   "cell_type": "code",
   "execution_count": 29,
   "id": "7bc28196-5c80-4cee-b026-2437e3c029c1",
   "metadata": {},
   "outputs": [
    {
     "name": "stdout",
     "output_type": "stream",
     "text": [
      "0 136\n",
      "2 137\n",
      "3 138\n",
      "4 139\n",
      "5 141\n",
      "6 142\n",
      "7 145\n",
      "19 148\n",
      "34 149\n",
      "35 150\n",
      "41 151\n",
      "47 152\n",
      "79 153\n",
      "110 154\n",
      "125 156\n",
      "456 157\n",
      "580 158\n",
      "1046 160\n"
     ]
    },
    {
     "data": {
      "text/plain": [
       "(5000,\n",
       " array([[1, 8, 3, 7, 6, 5, 4, 2, 9],\n",
       "        [7, 9, 6, 1, 2, 4, 5, 8, 3],\n",
       "        [5, 4, 2, 3, 9, 8, 1, 7, 6],\n",
       "        [4, 7, 2, 6, 5, 9, 8, 3, 1],\n",
       "        [8, 5, 1, 4, 3, 2, 6, 9, 7],\n",
       "        [6, 3, 9, 8, 1, 7, 2, 4, 5],\n",
       "        [9, 1, 8, 2, 7, 6, 3, 5, 4],\n",
       "        [3, 5, 4, 9, 8, 1, 7, 6, 2],\n",
       "        [2, 6, 7, 5, 4, 3, 9, 1, 8]]),\n",
       " 160)"
      ]
     },
     "execution_count": 29,
     "metadata": {},
     "output_type": "execute_result"
    }
   ],
   "source": [
    "gen, sol_mio, nota = sudoku_genetico(n = 150, m = 20, d = 2, max_gen = 5000, torneo = 4, elites = 0.3, aleatorios = 0.4)\n",
    "gen, sol_mio, nota"
   ]
  },
  {
   "cell_type": "markdown",
   "id": "4121e9ae-6572-4316-9b1e-8eccc81146a9",
   "metadata": {},
   "source": [
    "m=10"
   ]
  },
  {
   "cell_type": "code",
   "execution_count": 30,
   "id": "5ad56614-ede2-4062-bb56-e5b114280840",
   "metadata": {},
   "outputs": [
    {
     "name": "stdout",
     "output_type": "stream",
     "text": [
      "0 136\n",
      "4 139\n",
      "5 140\n",
      "7 141\n",
      "8 142\n",
      "10 144\n",
      "14 146\n",
      "16 148\n",
      "20 149\n",
      "30 150\n",
      "32 151\n",
      "50 152\n",
      "60 153\n",
      "77 154\n",
      "103 156\n",
      "1561 158\n",
      "2442 160\n"
     ]
    },
    {
     "data": {
      "text/plain": [
       "(5000,\n",
       " array([[1, 4, 3, 7, 6, 5, 9, 2, 8],\n",
       "        [7, 9, 6, 8, 2, 1, 5, 4, 3],\n",
       "        [5, 2, 8, 3, 9, 4, 1, 7, 6],\n",
       "        [9, 7, 2, 6, 5, 8, 4, 3, 1],\n",
       "        [8, 5, 1, 4, 3, 2, 6, 9, 7],\n",
       "        [6, 3, 4, 9, 1, 7, 2, 8, 5],\n",
       "        [2, 8, 9, 1, 7, 6, 3, 5, 4],\n",
       "        [3, 1, 4, 5, 8, 9, 7, 6, 2],\n",
       "        [7, 6, 5, 2, 4, 3, 8, 1, 9]]),\n",
       " 160)"
      ]
     },
     "execution_count": 30,
     "metadata": {},
     "output_type": "execute_result"
    }
   ],
   "source": [
    "gen, sol_mio, nota = sudoku_genetico(n = 150, m = 10, d = 2, max_gen = 5000, torneo = 4, elites = 0.3, aleatorios = 0.4)\n",
    "gen, sol_mio, nota"
   ]
  },
  {
   "cell_type": "markdown",
   "id": "9087c0de-52ea-4101-94b9-97912fe56853",
   "metadata": {},
   "source": [
    "m=5"
   ]
  },
  {
   "cell_type": "code",
   "execution_count": 31,
   "id": "97e8438c-1ac7-4d20-9003-f5e6c4052505",
   "metadata": {},
   "outputs": [
    {
     "name": "stdout",
     "output_type": "stream",
     "text": [
      "0 136\n",
      "2 137\n",
      "5 139\n",
      "6 140\n",
      "8 142\n",
      "10 143\n",
      "14 144\n",
      "18 147\n",
      "19 148\n",
      "20 149\n",
      "32 150\n",
      "39 151\n",
      "86 152\n",
      "166 153\n",
      "243 154\n",
      "788 155\n",
      "988 156\n",
      "1687 157\n",
      "3222 158\n"
     ]
    },
    {
     "data": {
      "text/plain": [
       "(5000,\n",
       " array([[1, 2, 3, 8, 6, 5, 4, 9, 7],\n",
       "        [7, 4, 6, 1, 2, 9, 5, 8, 3],\n",
       "        [5, 9, 8, 3, 7, 4, 1, 2, 6],\n",
       "        [4, 7, 2, 6, 5, 8, 9, 3, 1],\n",
       "        [9, 5, 1, 4, 3, 2, 6, 7, 8],\n",
       "        [6, 8, 3, 9, 1, 7, 2, 4, 5],\n",
       "        [8, 1, 9, 2, 9, 6, 7, 5, 4],\n",
       "        [2, 5, 4, 7, 8, 1, 3, 6, 9],\n",
       "        [3, 6, 7, 5, 4, 3, 8, 1, 2]]),\n",
       " 158)"
      ]
     },
     "execution_count": 31,
     "metadata": {},
     "output_type": "execute_result"
    }
   ],
   "source": [
    "gen, sol_mio, nota = sudoku_genetico(n = 150, m = 5, d = 2, max_gen = 5000, torneo = 4, elites = 0.3, aleatorios = 0.4)\n",
    "gen, sol_mio, nota"
   ]
  },
  {
   "cell_type": "markdown",
   "id": "359cc02f-d4d7-479b-bb23-37aac2b6f765",
   "metadata": {},
   "source": [
    "Caso: Aumento de la cantidad de individuos elegidos"
   ]
  },
  {
   "cell_type": "markdown",
   "id": "4af1ffaf-eb3d-40bd-96cb-e2ee9f31ba4b",
   "metadata": {},
   "source": [
    "m=50"
   ]
  },
  {
   "cell_type": "code",
   "execution_count": 32,
   "id": "77c5f461-b5e7-4dec-be84-2ffc46280331",
   "metadata": {},
   "outputs": [
    {
     "name": "stdout",
     "output_type": "stream",
     "text": [
      "0 136\n",
      "1 138\n",
      "5 139\n",
      "9 140\n",
      "10 141\n",
      "11 143\n",
      "12 145\n",
      "13 146\n",
      "18 148\n",
      "21 151\n",
      "71 152\n",
      "114 153\n",
      "139 154\n",
      "188 155\n",
      "193 156\n",
      "364 157\n",
      "483 158\n",
      "1670 160\n",
      "2870 162\n"
     ]
    },
    {
     "data": {
      "text/plain": [
       "(2871,\n",
       " array([[1, 2, 3, 8, 6, 5, 4, 9, 7],\n",
       "        [7, 4, 6, 1, 2, 9, 5, 8, 3],\n",
       "        [5, 8, 9, 3, 7, 4, 1, 2, 6],\n",
       "        [4, 7, 2, 6, 5, 8, 9, 3, 1],\n",
       "        [9, 5, 1, 4, 3, 2, 6, 7, 8],\n",
       "        [6, 3, 8, 9, 1, 7, 2, 4, 5],\n",
       "        [8, 1, 7, 2, 9, 6, 3, 5, 4],\n",
       "        [3, 9, 4, 5, 8, 1, 7, 6, 2],\n",
       "        [2, 6, 5, 7, 4, 3, 8, 1, 9]]),\n",
       " 162)"
      ]
     },
     "execution_count": 32,
     "metadata": {},
     "output_type": "execute_result"
    }
   ],
   "source": [
    "gen, sol_mio, nota = sudoku_genetico(n = 150, m = 50, d = 2, max_gen = 5000, torneo = 4, elites = 0.3, aleatorios = 0.4)\n",
    "gen, sol_mio, nota"
   ]
  },
  {
   "cell_type": "markdown",
   "id": "62563530-b83d-4ee9-99e8-ed451de5d116",
   "metadata": {},
   "source": [
    "m=60"
   ]
  },
  {
   "cell_type": "code",
   "execution_count": 33,
   "id": "f6bdc231-39ea-4b7c-9188-612e37364cac",
   "metadata": {},
   "outputs": [
    {
     "name": "stdout",
     "output_type": "stream",
     "text": [
      "0 136\n",
      "5 137\n",
      "6 139\n",
      "9 140\n",
      "10 141\n",
      "14 146\n",
      "18 148\n",
      "29 149\n",
      "30 150\n",
      "41 152\n",
      "63 153\n",
      "90 154\n",
      "141 158\n",
      "499 159\n",
      "1064 160\n",
      "2422 162\n"
     ]
    },
    {
     "data": {
      "text/plain": [
       "(2423,\n",
       " array([[1, 2, 3, 8, 6, 5, 4, 9, 7],\n",
       "        [7, 4, 6, 1, 2, 9, 5, 8, 3],\n",
       "        [5, 8, 9, 3, 7, 4, 1, 2, 6],\n",
       "        [4, 7, 2, 6, 5, 8, 9, 3, 1],\n",
       "        [9, 5, 1, 4, 3, 2, 6, 7, 8],\n",
       "        [6, 3, 8, 9, 1, 7, 2, 4, 5],\n",
       "        [8, 1, 7, 2, 9, 6, 3, 5, 4],\n",
       "        [3, 9, 4, 5, 8, 1, 7, 6, 2],\n",
       "        [2, 6, 5, 7, 4, 3, 8, 1, 9]]),\n",
       " 162)"
      ]
     },
     "execution_count": 33,
     "metadata": {},
     "output_type": "execute_result"
    }
   ],
   "source": [
    "gen, sol_mio, nota = sudoku_genetico(n = 150, m = 60, d = 2, max_gen = 5000, torneo = 4, elites = 0.3, aleatorios = 0.4)\n",
    "gen, sol_mio, nota"
   ]
  },
  {
   "cell_type": "markdown",
   "id": "ba32bd28-66da-4dcc-a7e0-11fa0dd7a400",
   "metadata": {},
   "source": [
    "m=70"
   ]
  },
  {
   "cell_type": "code",
   "execution_count": 34,
   "id": "c6f3c38f-3ead-4586-a3c4-7c5d64fe0be3",
   "metadata": {},
   "outputs": [
    {
     "name": "stdout",
     "output_type": "stream",
     "text": [
      "0 136\n",
      "1 137\n",
      "6 139\n",
      "9 140\n",
      "12 143\n",
      "15 148\n",
      "28 149\n",
      "41 152\n",
      "53 153\n",
      "155 154\n",
      "177 155\n",
      "215 156\n",
      "331 157\n",
      "396 158\n",
      "651 160\n",
      "720 162\n"
     ]
    },
    {
     "data": {
      "text/plain": [
       "(721,\n",
       " array([[1, 2, 3, 8, 6, 5, 4, 9, 7],\n",
       "        [7, 4, 6, 1, 2, 9, 5, 8, 3],\n",
       "        [5, 8, 9, 3, 7, 4, 1, 2, 6],\n",
       "        [4, 7, 2, 6, 5, 8, 9, 3, 1],\n",
       "        [9, 5, 1, 4, 3, 2, 6, 7, 8],\n",
       "        [6, 3, 8, 9, 1, 7, 2, 4, 5],\n",
       "        [8, 1, 7, 2, 9, 6, 3, 5, 4],\n",
       "        [3, 9, 4, 5, 8, 1, 7, 6, 2],\n",
       "        [2, 6, 5, 7, 4, 3, 8, 1, 9]]),\n",
       " 162)"
      ]
     },
     "execution_count": 34,
     "metadata": {},
     "output_type": "execute_result"
    }
   ],
   "source": [
    "gen, sol_mio, nota = sudoku_genetico(n = 150, m = 70, d = 2, max_gen = 5000, torneo = 4, elites = 0.3, aleatorios = 0.4)\n",
    "gen, sol_mio, nota"
   ]
  },
  {
   "cell_type": "markdown",
   "id": "7cf2ed93-c243-4e87-81ff-5a37a676b671",
   "metadata": {},
   "source": [
    "m=80"
   ]
  },
  {
   "cell_type": "code",
   "execution_count": 35,
   "id": "1de3e8a2-b302-442e-8d20-70f905a786fc",
   "metadata": {},
   "outputs": [
    {
     "name": "stdout",
     "output_type": "stream",
     "text": [
      "0 136\n",
      "3 137\n",
      "5 139\n",
      "10 141\n",
      "19 142\n",
      "20 143\n",
      "24 148\n",
      "30 149\n",
      "33 150\n",
      "37 153\n",
      "92 154\n",
      "216 155\n",
      "224 156\n",
      "455 158\n",
      "4104 160\n"
     ]
    },
    {
     "data": {
      "text/plain": [
       "(5000,\n",
       " array([[1, 2, 3, 9, 6, 5, 4, 8, 7],\n",
       "        [7, 8, 6, 1, 2, 4, 5, 9, 3],\n",
       "        [5, 4, 9, 3, 7, 8, 1, 2, 6],\n",
       "        [4, 7, 2, 6, 5, 8, 9, 3, 1],\n",
       "        [9, 5, 1, 4, 3, 2, 6, 7, 8],\n",
       "        [6, 3, 8, 9, 1, 7, 2, 4, 5],\n",
       "        [8, 1, 7, 2, 9, 6, 3, 5, 4],\n",
       "        [3, 9, 4, 5, 8, 1, 7, 6, 2],\n",
       "        [2, 6, 5, 7, 4, 3, 8, 1, 9]]),\n",
       " 160)"
      ]
     },
     "execution_count": 35,
     "metadata": {},
     "output_type": "execute_result"
    }
   ],
   "source": [
    "gen, sol_mio, nota = sudoku_genetico(n = 150, m = 80, d = 2, max_gen = 5000, torneo = 4, elites = 0.3, aleatorios = 0.4)\n",
    "gen, sol_mio, nota"
   ]
  },
  {
   "cell_type": "code",
   "execution_count": null,
   "id": "021ff850-ded6-47cd-be5b-1085fedee4a3",
   "metadata": {},
   "outputs": [],
   "source": []
  }
 ],
 "metadata": {
  "kernelspec": {
   "display_name": "Python 3 (ipykernel)",
   "language": "python",
   "name": "python3"
  },
  "language_info": {
   "codemirror_mode": {
    "name": "ipython",
    "version": 3
   },
   "file_extension": ".py",
   "mimetype": "text/x-python",
   "name": "python",
   "nbconvert_exporter": "python",
   "pygments_lexer": "ipython3",
   "version": "3.12.11"
  }
 },
 "nbformat": 4,
 "nbformat_minor": 5
}
